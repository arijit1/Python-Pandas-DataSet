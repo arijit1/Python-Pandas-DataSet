{
 "cells": [
  {
   "cell_type": "code",
   "execution_count": null,
   "metadata": {},
   "outputs": [],
   "source": [
    "print(\"Hey! arijit\")"
   ]
  },
  {
   "cell_type": "code",
   "execution_count": 1,
   "metadata": {},
   "outputs": [
    {
     "data": {
      "text/plain": [
       "'C:\\\\Users\\\\ARIJIT'"
      ]
     },
     "execution_count": 1,
     "metadata": {},
     "output_type": "execute_result"
    }
   ],
   "source": [
    "pwd"
   ]
  },
  {
   "cell_type": "code",
   "execution_count": null,
   "metadata": {},
   "outputs": [],
   "source": [
    "#if condition\n",
    "a= 20\n",
    "b= 30\n",
    "if b>a: print(b)\n",
    "\n",
    "if a>b:\n",
    "    print(a)\n",
    "else:\n",
    "    print(b)"
   ]
  },
  {
   "cell_type": "code",
   "execution_count": null,
   "metadata": {
    "scrolled": false
   },
   "outputs": [],
   "source": [
    "#if-elif-else condition\n",
    "a=20\n",
    "b=20\n",
    "if a>b: print(a)\n",
    "elif a==b:\n",
    "        print(\"both are equal , there values are \" + str(a))\n",
    "else:\n",
    "            print(\"b is greater\") \n",
    "#proper indentation is required otherwise it will through error . and variable that needs to be printed in string format \n",
    "\n",
    "print(\"A\") if a > b else print(\"B\") #one line if else statement\n",
    "        "
   ]
  },
  {
   "cell_type": "markdown",
   "metadata": {},
   "source": []
  },
  {
   "cell_type": "code",
   "execution_count": null,
   "metadata": {},
   "outputs": [],
   "source": [
    "#while loop\n",
    "i = 1\n",
    "while i < 10 :\n",
    "    i+=1\n",
    "    print(i)"
   ]
  },
  {
   "cell_type": "code",
   "execution_count": null,
   "metadata": {},
   "outputs": [],
   "source": [
    "#printing in same line\n",
    "#note : to break any loop ,use stop kernel from the tool bar\n",
    "i = 1\n",
    "while i<10 :\n",
    "    print(i, end =\" \")\n",
    "    i+=1"
   ]
  },
  {
   "cell_type": "code",
   "execution_count": null,
   "metadata": {},
   "outputs": [],
   "source": [
    "#code to print all even numbers between 1 to 25 using WHILE loop\n",
    "n= 1\n",
    "while n<=25:\n",
    "    if n%2==0:\n",
    "        print(n, end =\",\")\n",
    "    else:\n",
    "        print(\"rishiiii\", end =\",\")\n",
    "    n+=1     "
   ]
  },
  {
   "cell_type": "code",
   "execution_count": null,
   "metadata": {},
   "outputs": [],
   "source": [
    "\n",
    "#code to print all even numbers between 1 to 25 using FOR loop\n",
    "#for(i =1 ,i<25 ,i++)\n",
    "for i in range(1,25):\n",
    "    if i%2==0:\n",
    "        print(i , end =\",\")"
   ]
  },
  {
   "cell_type": "code",
   "execution_count": null,
   "metadata": {},
   "outputs": [],
   "source": [
    "#functions\n",
    "def my_function():\n",
    "    print(\"hello this function is being called\")\n",
    "my_function()    \n"
   ]
  },
  {
   "cell_type": "code",
   "execution_count": null,
   "metadata": {},
   "outputs": [],
   "source": [
    "#function , only that function will be called only when that function is calling it.\n",
    "def one_function():\n",
    "    print(\"first function is being called\")\n",
    "def two_function():\n",
    "    print(\"second function is being called\")\n",
    "def third_function():\n",
    "    print(\"third function is being called\")\n",
    "two_function()\n",
    "one_function()\n",
    "\n",
    "#paramaterized function \n",
    "#see the flow carefully \n",
    "person = \"Minhack\"\n",
    "def parameter_func(name = \"Monosha\"):\n",
    "    if name == \"Minhack\" or name == \"Monosha\":\n",
    "        print(name)\n",
    "    else:\n",
    "        print(name + \" sengupta\")\n",
    "\n",
    "parameter_func(\"Arijit\")\n",
    "parameter_func(\"Rishi\")\n",
    "parameter_func(person)\n",
    "parameter_func()\n",
    "\n",
    "#return type function\n",
    "def square(x):\n",
    "    a=x*x\n",
    "    return a\n",
    "def squares(s=10):\n",
    "    return s\n",
    "\n",
    "b=square(2)\n",
    "print(b)\n",
    "print(squares())\n",
    "print(square(10))\n",
    "\n",
    "#recursion function is important ,will study separately"
   ]
  },
  {
   "cell_type": "code",
   "execution_count": null,
   "metadata": {},
   "outputs": [],
   "source": [
    "class A:\n",
    "    def __init__(self):\n",
    "        print(\"make the trip\")\n",
    "    \n",
    "    def funct(self):\n",
    "        print(\"hello\")\n",
    "\n",
    "a = A()\n",
    "a.funct()"
   ]
  },
  {
   "cell_type": "code",
   "execution_count": null,
   "metadata": {},
   "outputs": [],
   "source": [
    "#example of dictionary\n",
    "d = {1:'Jimmy', 2:'Alex', 3:'john', 4:'mike'};   \n",
    "print(\"1st name is \"+d[1]+\" and \"+d[4]);  \n",
    "print(\"2nd name is \"+ d[4]); \n",
    "print (d);  \n",
    "print (d.keys());  \n",
    "print (d.values());"
   ]
  },
  {
   "cell_type": "code",
   "execution_count": null,
   "metadata": {},
   "outputs": [],
   "source": [
    "#List \n",
    "l  = [1, \"hi\", \"python\", 2,3]  \n",
    "print (l[3:]);  \n",
    "print (l[0:3]);  \n",
    "print (l);  \n",
    "print (l + l);  \n",
    "print (l * 3);"
   ]
  },
  {
   "cell_type": "code",
   "execution_count": null,
   "metadata": {},
   "outputs": [],
   "source": [
    "#tuple\n",
    "l  = (1, \"hi\", \"python\", 2)  \n",
    "print (l[3:]);  \n",
    "print (l[0:3]);  \n",
    "print (l);  \n",
    "print (l + l);  \n",
    "print (l * 3);\n",
    "l[2]=1 #tuple doesnot allow value change  which is the main difference btwn tuple and list"
   ]
  },
  {
   "cell_type": "code",
   "execution_count": null,
   "metadata": {},
   "outputs": [],
   "source": [
    "#membership operator\n",
    "l = [1,2,3,4,5]\n",
    "p = [10,1,11,22,44]\n",
    "\n"
   ]
  },
  {
   "cell_type": "code",
   "execution_count": null,
   "metadata": {},
   "outputs": [],
   "source": [
    "list =[1,2,3,4]  \n",
    "count = 1;  \n",
    "for i in list:  \n",
    "    if i == 3:  \n",
    "        print(\"item matched\")  \n",
    "        count = count + 1;\n",
    "        break;\n",
    "print(\"found at\",count,\"location\"); "
   ]
  },
  {
   "cell_type": "code",
   "execution_count": null,
   "metadata": {},
   "outputs": [],
   "source": [
    "#break and continue\n",
    "list = [1,22,5,2]\n",
    "count = 1\n",
    "for i in range(1,5): #for(i=1 ; i<6 ; i++)\n",
    "    if(i in list):\n",
    "        count = count + 1\n",
    "    else:\n",
    "        #continue;\n",
    "        break;\n",
    "print(count)        "
   ]
  },
  {
   "cell_type": "code",
   "execution_count": null,
   "metadata": {},
   "outputs": [],
   "source": [
    "str = \"python\"  \n",
    "for i in str:  \n",
    "    if i == 'o':  \n",
    "        break  \n",
    "    else: print(i);"
   ]
  },
  {
   "cell_type": "code",
   "execution_count": null,
   "metadata": {},
   "outputs": [],
   "source": [
    "n=2  \n",
    "while 1:  \n",
    "    i=1;  \n",
    "    while i<=10:  \n",
    "        print(\"%d X %d = %d\\n\"%(n,i,n*i));  \n",
    "        i = i+1;  \n",
    "    choice = int(input(\"Do you want to continue printing the table, press 0 for no?\"))  \n",
    "    if choice == 1:\n",
    "        n=n+1\n",
    "        continue;\n",
    "    else:\n",
    "        break;      "
   ]
  },
  {
   "cell_type": "code",
   "execution_count": 1,
   "metadata": {},
   "outputs": [
    {
     "name": "stdout",
     "output_type": "stream",
     "text": [
      "{'Friday', 'Sunday', 'Thursday', 'Wednesday', 'Saturday', 'Monday', 'Tuesday'}\n",
      "<class 'set'>\n",
      "looping through the set elements ... \n",
      "Friday\n",
      "Sunday\n",
      "Thursday\n",
      "Wednesday\n",
      "Saturday\n",
      "Monday\n",
      "Tuesday\n"
     ]
    }
   ],
   "source": [
    "Days = {\"Monday\", \"Tuesday\", \"Wednesday\", \"Thursday\", \"Friday\", \"Saturday\", \"Sunday\"}  \n",
    "print(Days)  \n",
    "print(type(Days))  \n",
    "print(\"looping through the set elements ... \")  \n",
    "\n",
    "for i in Days:  \n",
    "    print(i) "
   ]
  },
  {
   "cell_type": "code",
   "execution_count": 4,
   "metadata": {},
   "outputs": [
    {
     "name": "stdout",
     "output_type": "stream",
     "text": [
      "('Monday', 'Tuesday', 'Wednesday', 'Thursday', 'Friday', 'Saturday', 'Sunday')\n",
      "<class 'tuple'>\n",
      "looping through the set elements ... \n",
      "Monday\n",
      "Tuesday\n",
      "Wednesday\n",
      "Thursday\n",
      "Friday\n",
      "Saturday\n",
      "Sunday\n"
     ]
    }
   ],
   "source": [
    "Days = (\"Monday\", \"Tuesday\", \"Wednesday\", \"Thursday\", \"Friday\", \"Saturday\", \"Sunday\")\n",
    "print(Days)  \n",
    "print(type(Days))  \n",
    "print(\"looping through the set elements ... \")  \n",
    "for i in Days:  \n",
    "    print(i)"
   ]
  },
  {
   "cell_type": "code",
   "execution_count": 9,
   "metadata": {},
   "outputs": [
    {
     "name": "stdout",
     "output_type": "stream",
     "text": [
      "<class 'dict'>\n",
      "printing Employee data .... \n",
      "John\n"
     ]
    }
   ],
   "source": [
    "#dictionary\n",
    "Employee = {\"Name\": \"John\", \"Age\": 29, \"salary\":25000,\"Company\":\"GOOGLE\"}  \n",
    "print(type(Employee))  \n",
    "print(\"printing Employee data .... \")  \n",
    "print(Employee[\"Name\"])   "
   ]
  },
  {
   "cell_type": "code",
   "execution_count": 2,
   "metadata": {},
   "outputs": [
    {
     "name": "stdout",
     "output_type": "stream",
     "text": [
      "4\n"
     ]
    }
   ],
   "source": [
    "a=2**2\n",
    "print(a)"
   ]
  },
  {
   "cell_type": "code",
   "execution_count": 8,
   "metadata": {},
   "outputs": [
    {
     "name": "stdout",
     "output_type": "stream",
     "text": [
      "i i "
     ]
    }
   ],
   "source": [
    "str= \"arijit\"\n",
    "for chare in str:\n",
    "    if(chare == 'i'):\n",
    "        print(chare,end=\" \")"
   ]
  },
  {
   "cell_type": "code",
   "execution_count": 9,
   "metadata": {},
   "outputs": [
    {
     "name": "stdout",
     "output_type": "stream",
     "text": [
      "['c:\\\\users\\\\arijit\\\\appdata\\\\local\\\\programs\\\\python\\\\python36-32\\\\lib\\\\site-packages\\\\ipykernel_launcher.py', '-f', 'C:\\\\Users\\\\ARIJIT\\\\AppData\\\\Roaming\\\\jupyter\\\\runtime\\\\kernel-c3ba0a96-2618-4a4f-a6d9-b90f4d73a31e.json']\n"
     ]
    }
   ],
   "source": [
    "import sys\n",
    "print(sys.argv)"
   ]
  }
 ],
 "metadata": {
  "kernelspec": {
   "display_name": "Python 3",
   "language": "python",
   "name": "python3"
  },
  "language_info": {
   "codemirror_mode": {
    "name": "ipython",
    "version": 3
   },
   "file_extension": ".py",
   "mimetype": "text/x-python",
   "name": "python",
   "nbconvert_exporter": "python",
   "pygments_lexer": "ipython3",
   "version": "3.7.5"
  }
 },
 "nbformat": 4,
 "nbformat_minor": 2
}
